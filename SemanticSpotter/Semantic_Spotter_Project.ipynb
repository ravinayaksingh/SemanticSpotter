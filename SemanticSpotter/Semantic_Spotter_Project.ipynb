{
  "cells": [
    {
      "cell_type": "markdown",
      "metadata": {
        "id": "gsSjQ5hMv7Fx"
      },
      "source": [
        "# Installing the \"llama-index\" Python package"
      ]
    },
    {
      "cell_type": "code",
      "execution_count": 1,
      "metadata": {
        "id": "JL3Sz_0zBWXD",
        "colab": {
          "base_uri": "https://localhost:8080/"
        },
        "outputId": "48e68c1f-006f-47cc-94fa-82217c05882b"
      },
      "outputs": [
        {
          "output_type": "stream",
          "name": "stdout",
          "text": [
            "Collecting llama-index\n",
            "  Downloading llama_index-0.10.57-py3-none-any.whl (6.8 kB)\n",
            "Collecting llama-index-agent-openai<0.3.0,>=0.1.4 (from llama-index)\n",
            "  Downloading llama_index_agent_openai-0.2.9-py3-none-any.whl (13 kB)\n",
            "Collecting llama-index-cli<0.2.0,>=0.1.2 (from llama-index)\n",
            "  Downloading llama_index_cli-0.1.12-py3-none-any.whl (26 kB)\n",
            "Collecting llama-index-core==0.10.57 (from llama-index)\n",
            "  Downloading llama_index_core-0.10.57-py3-none-any.whl (15.5 MB)\n",
            "\u001b[2K     \u001b[90m━━━━━━━━━━━━━━━━━━━━━━━━━━━━━━━━━━━━━━━━\u001b[0m \u001b[32m15.5/15.5 MB\u001b[0m \u001b[31m6.1 MB/s\u001b[0m eta \u001b[36m0:00:00\u001b[0m\n",
            "\u001b[?25hCollecting llama-index-embeddings-openai<0.2.0,>=0.1.5 (from llama-index)\n",
            "  Downloading llama_index_embeddings_openai-0.1.11-py3-none-any.whl (6.3 kB)\n",
            "Collecting llama-index-indices-managed-llama-cloud>=0.2.0 (from llama-index)\n",
            "  Downloading llama_index_indices_managed_llama_cloud-0.2.5-py3-none-any.whl (9.3 kB)\n",
            "Collecting llama-index-legacy<0.10.0,>=0.9.48 (from llama-index)\n",
            "  Downloading llama_index_legacy-0.9.48-py3-none-any.whl (2.0 MB)\n",
            "\u001b[2K     \u001b[90m━━━━━━━━━━━━━━━━━━━━━━━━━━━━━━━━━━━━━━━━\u001b[0m \u001b[32m2.0/2.0 MB\u001b[0m \u001b[31m7.1 MB/s\u001b[0m eta \u001b[36m0:00:00\u001b[0m\n",
            "\u001b[?25hCollecting llama-index-llms-openai<0.2.0,>=0.1.13 (from llama-index)\n",
            "  Downloading llama_index_llms_openai-0.1.27-py3-none-any.whl (11 kB)\n",
            "Collecting llama-index-multi-modal-llms-openai<0.2.0,>=0.1.3 (from llama-index)\n",
            "  Downloading llama_index_multi_modal_llms_openai-0.1.8-py3-none-any.whl (5.9 kB)\n",
            "Collecting llama-index-program-openai<0.2.0,>=0.1.3 (from llama-index)\n",
            "  Downloading llama_index_program_openai-0.1.7-py3-none-any.whl (5.3 kB)\n",
            "Collecting llama-index-question-gen-openai<0.2.0,>=0.1.2 (from llama-index)\n",
            "  Downloading llama_index_question_gen_openai-0.1.3-py3-none-any.whl (2.9 kB)\n",
            "Collecting llama-index-readers-file<0.2.0,>=0.1.4 (from llama-index)\n",
            "  Downloading llama_index_readers_file-0.1.30-py3-none-any.whl (38 kB)\n",
            "Collecting llama-index-readers-llama-parse>=0.1.2 (from llama-index)\n",
            "  Downloading llama_index_readers_llama_parse-0.1.6-py3-none-any.whl (2.5 kB)\n",
            "Requirement already satisfied: PyYAML>=6.0.1 in /usr/local/lib/python3.10/dist-packages (from llama-index-core==0.10.57->llama-index) (6.0.1)\n",
            "Requirement already satisfied: SQLAlchemy[asyncio]>=1.4.49 in /usr/local/lib/python3.10/dist-packages (from llama-index-core==0.10.57->llama-index) (2.0.31)\n",
            "Requirement already satisfied: aiohttp<4.0.0,>=3.8.6 in /usr/local/lib/python3.10/dist-packages (from llama-index-core==0.10.57->llama-index) (3.9.5)\n",
            "Collecting dataclasses-json (from llama-index-core==0.10.57->llama-index)\n",
            "  Downloading dataclasses_json-0.6.7-py3-none-any.whl (28 kB)\n",
            "Collecting deprecated>=1.2.9.3 (from llama-index-core==0.10.57->llama-index)\n",
            "  Downloading Deprecated-1.2.14-py2.py3-none-any.whl (9.6 kB)\n",
            "Collecting dirtyjson<2.0.0,>=1.0.8 (from llama-index-core==0.10.57->llama-index)\n",
            "  Downloading dirtyjson-1.0.8-py3-none-any.whl (25 kB)\n",
            "Requirement already satisfied: fsspec>=2023.5.0 in /usr/local/lib/python3.10/dist-packages (from llama-index-core==0.10.57->llama-index) (2023.6.0)\n",
            "Collecting httpx (from llama-index-core==0.10.57->llama-index)\n",
            "  Downloading httpx-0.27.0-py3-none-any.whl (75 kB)\n",
            "\u001b[2K     \u001b[90m━━━━━━━━━━━━━━━━━━━━━━━━━━━━━━━━━━━━━━━━\u001b[0m \u001b[32m75.6/75.6 kB\u001b[0m \u001b[31m1.7 MB/s\u001b[0m eta \u001b[36m0:00:00\u001b[0m\n",
            "\u001b[?25hRequirement already satisfied: nest-asyncio<2.0.0,>=1.5.8 in /usr/local/lib/python3.10/dist-packages (from llama-index-core==0.10.57->llama-index) (1.6.0)\n",
            "Requirement already satisfied: networkx>=3.0 in /usr/local/lib/python3.10/dist-packages (from llama-index-core==0.10.57->llama-index) (3.3)\n",
            "Requirement already satisfied: nltk<4.0.0,>=3.8.1 in /usr/local/lib/python3.10/dist-packages (from llama-index-core==0.10.57->llama-index) (3.8.1)\n",
            "Requirement already satisfied: numpy<2.0.0 in /usr/local/lib/python3.10/dist-packages (from llama-index-core==0.10.57->llama-index) (1.25.2)\n",
            "Collecting openai>=1.1.0 (from llama-index-core==0.10.57->llama-index)\n",
            "  Downloading openai-1.37.0-py3-none-any.whl (337 kB)\n",
            "\u001b[2K     \u001b[90m━━━━━━━━━━━━━━━━━━━━━━━━━━━━━━━━━━━━━━━━\u001b[0m \u001b[32m337.0/337.0 kB\u001b[0m \u001b[31m6.1 MB/s\u001b[0m eta \u001b[36m0:00:00\u001b[0m\n",
            "\u001b[?25hRequirement already satisfied: pandas in /usr/local/lib/python3.10/dist-packages (from llama-index-core==0.10.57->llama-index) (2.0.3)\n",
            "Requirement already satisfied: pillow>=9.0.0 in /usr/local/lib/python3.10/dist-packages (from llama-index-core==0.10.57->llama-index) (9.4.0)\n",
            "Requirement already satisfied: requests>=2.31.0 in /usr/local/lib/python3.10/dist-packages (from llama-index-core==0.10.57->llama-index) (2.31.0)\n",
            "Requirement already satisfied: tenacity!=8.4.0,<9.0.0,>=8.2.0 in /usr/local/lib/python3.10/dist-packages (from llama-index-core==0.10.57->llama-index) (8.5.0)\n",
            "Collecting tiktoken>=0.3.3 (from llama-index-core==0.10.57->llama-index)\n",
            "  Downloading tiktoken-0.7.0-cp310-cp310-manylinux_2_17_x86_64.manylinux2014_x86_64.whl (1.1 MB)\n",
            "\u001b[2K     \u001b[90m━━━━━━━━━━━━━━━━━━━━━━━━━━━━━━━━━━━━━━━━\u001b[0m \u001b[32m1.1/1.1 MB\u001b[0m \u001b[31m10.6 MB/s\u001b[0m eta \u001b[36m0:00:00\u001b[0m\n",
            "\u001b[?25hRequirement already satisfied: tqdm<5.0.0,>=4.66.1 in /usr/local/lib/python3.10/dist-packages (from llama-index-core==0.10.57->llama-index) (4.66.4)\n",
            "Requirement already satisfied: typing-extensions>=4.5.0 in /usr/local/lib/python3.10/dist-packages (from llama-index-core==0.10.57->llama-index) (4.12.2)\n",
            "Collecting typing-inspect>=0.8.0 (from llama-index-core==0.10.57->llama-index)\n",
            "  Downloading typing_inspect-0.9.0-py3-none-any.whl (8.8 kB)\n",
            "Requirement already satisfied: wrapt in /usr/local/lib/python3.10/dist-packages (from llama-index-core==0.10.57->llama-index) (1.14.1)\n",
            "Collecting llama-cloud>=0.0.9 (from llama-index-indices-managed-llama-cloud>=0.2.0->llama-index)\n",
            "  Downloading llama_cloud-0.0.9-py3-none-any.whl (146 kB)\n",
            "\u001b[2K     \u001b[90m━━━━━━━━━━━━━━━━━━━━━━━━━━━━━━━━━━━━━━━━\u001b[0m \u001b[32m146.8/146.8 kB\u001b[0m \u001b[31m9.2 MB/s\u001b[0m eta \u001b[36m0:00:00\u001b[0m\n",
            "\u001b[?25hRequirement already satisfied: beautifulsoup4<5.0.0,>=4.12.3 in /usr/local/lib/python3.10/dist-packages (from llama-index-readers-file<0.2.0,>=0.1.4->llama-index) (4.12.3)\n",
            "Collecting pypdf<5.0.0,>=4.0.1 (from llama-index-readers-file<0.2.0,>=0.1.4->llama-index)\n",
            "  Downloading pypdf-4.3.1-py3-none-any.whl (295 kB)\n",
            "\u001b[2K     \u001b[90m━━━━━━━━━━━━━━━━━━━━━━━━━━━━━━━━━━━━━━━━\u001b[0m \u001b[32m295.8/295.8 kB\u001b[0m \u001b[31m16.6 MB/s\u001b[0m eta \u001b[36m0:00:00\u001b[0m\n",
            "\u001b[?25hCollecting striprtf<0.0.27,>=0.0.26 (from llama-index-readers-file<0.2.0,>=0.1.4->llama-index)\n",
            "  Downloading striprtf-0.0.26-py3-none-any.whl (6.9 kB)\n",
            "Collecting llama-parse>=0.4.0 (from llama-index-readers-llama-parse>=0.1.2->llama-index)\n",
            "  Downloading llama_parse-0.4.9-py3-none-any.whl (9.4 kB)\n",
            "Requirement already satisfied: aiosignal>=1.1.2 in /usr/local/lib/python3.10/dist-packages (from aiohttp<4.0.0,>=3.8.6->llama-index-core==0.10.57->llama-index) (1.3.1)\n",
            "Requirement already satisfied: attrs>=17.3.0 in /usr/local/lib/python3.10/dist-packages (from aiohttp<4.0.0,>=3.8.6->llama-index-core==0.10.57->llama-index) (23.2.0)\n",
            "Requirement already satisfied: frozenlist>=1.1.1 in /usr/local/lib/python3.10/dist-packages (from aiohttp<4.0.0,>=3.8.6->llama-index-core==0.10.57->llama-index) (1.4.1)\n",
            "Requirement already satisfied: multidict<7.0,>=4.5 in /usr/local/lib/python3.10/dist-packages (from aiohttp<4.0.0,>=3.8.6->llama-index-core==0.10.57->llama-index) (6.0.5)\n",
            "Requirement already satisfied: yarl<2.0,>=1.0 in /usr/local/lib/python3.10/dist-packages (from aiohttp<4.0.0,>=3.8.6->llama-index-core==0.10.57->llama-index) (1.9.4)\n",
            "Requirement already satisfied: async-timeout<5.0,>=4.0 in /usr/local/lib/python3.10/dist-packages (from aiohttp<4.0.0,>=3.8.6->llama-index-core==0.10.57->llama-index) (4.0.3)\n",
            "Requirement already satisfied: soupsieve>1.2 in /usr/local/lib/python3.10/dist-packages (from beautifulsoup4<5.0.0,>=4.12.3->llama-index-readers-file<0.2.0,>=0.1.4->llama-index) (2.5)\n",
            "Requirement already satisfied: pydantic>=1.10 in /usr/local/lib/python3.10/dist-packages (from llama-cloud>=0.0.9->llama-index-indices-managed-llama-cloud>=0.2.0->llama-index) (2.8.2)\n",
            "Requirement already satisfied: anyio in /usr/local/lib/python3.10/dist-packages (from httpx->llama-index-core==0.10.57->llama-index) (3.7.1)\n",
            "Requirement already satisfied: certifi in /usr/local/lib/python3.10/dist-packages (from httpx->llama-index-core==0.10.57->llama-index) (2024.7.4)\n",
            "Collecting httpcore==1.* (from httpx->llama-index-core==0.10.57->llama-index)\n",
            "  Downloading httpcore-1.0.5-py3-none-any.whl (77 kB)\n",
            "\u001b[2K     \u001b[90m━━━━━━━━━━━━━━━━━━━━━━━━━━━━━━━━━━━━━━━━\u001b[0m \u001b[32m77.9/77.9 kB\u001b[0m \u001b[31m6.3 MB/s\u001b[0m eta \u001b[36m0:00:00\u001b[0m\n",
            "\u001b[?25hRequirement already satisfied: idna in /usr/local/lib/python3.10/dist-packages (from httpx->llama-index-core==0.10.57->llama-index) (3.7)\n",
            "Requirement already satisfied: sniffio in /usr/local/lib/python3.10/dist-packages (from httpx->llama-index-core==0.10.57->llama-index) (1.3.1)\n",
            "Collecting h11<0.15,>=0.13 (from httpcore==1.*->httpx->llama-index-core==0.10.57->llama-index)\n",
            "  Downloading h11-0.14.0-py3-none-any.whl (58 kB)\n",
            "\u001b[2K     \u001b[90m━━━━━━━━━━━━━━━━━━━━━━━━━━━━━━━━━━━━━━━━\u001b[0m \u001b[32m58.3/58.3 kB\u001b[0m \u001b[31m5.7 MB/s\u001b[0m eta \u001b[36m0:00:00\u001b[0m\n",
            "\u001b[?25hRequirement already satisfied: click in /usr/local/lib/python3.10/dist-packages (from nltk<4.0.0,>=3.8.1->llama-index-core==0.10.57->llama-index) (8.1.7)\n",
            "Requirement already satisfied: joblib in /usr/local/lib/python3.10/dist-packages (from nltk<4.0.0,>=3.8.1->llama-index-core==0.10.57->llama-index) (1.4.2)\n",
            "Requirement already satisfied: regex>=2021.8.3 in /usr/local/lib/python3.10/dist-packages (from nltk<4.0.0,>=3.8.1->llama-index-core==0.10.57->llama-index) (2024.5.15)\n",
            "Requirement already satisfied: distro<2,>=1.7.0 in /usr/lib/python3/dist-packages (from openai>=1.1.0->llama-index-core==0.10.57->llama-index) (1.7.0)\n",
            "Requirement already satisfied: charset-normalizer<4,>=2 in /usr/local/lib/python3.10/dist-packages (from requests>=2.31.0->llama-index-core==0.10.57->llama-index) (3.3.2)\n",
            "Requirement already satisfied: urllib3<3,>=1.21.1 in /usr/local/lib/python3.10/dist-packages (from requests>=2.31.0->llama-index-core==0.10.57->llama-index) (2.0.7)\n",
            "Requirement already satisfied: greenlet!=0.4.17 in /usr/local/lib/python3.10/dist-packages (from SQLAlchemy[asyncio]>=1.4.49->llama-index-core==0.10.57->llama-index) (3.0.3)\n",
            "Collecting mypy-extensions>=0.3.0 (from typing-inspect>=0.8.0->llama-index-core==0.10.57->llama-index)\n",
            "  Downloading mypy_extensions-1.0.0-py3-none-any.whl (4.7 kB)\n",
            "Collecting marshmallow<4.0.0,>=3.18.0 (from dataclasses-json->llama-index-core==0.10.57->llama-index)\n",
            "  Downloading marshmallow-3.21.3-py3-none-any.whl (49 kB)\n",
            "\u001b[2K     \u001b[90m━━━━━━━━━━━━━━━━━━━━━━━━━━━━━━━━━━━━━━━━\u001b[0m \u001b[32m49.2/49.2 kB\u001b[0m \u001b[31m3.3 MB/s\u001b[0m eta \u001b[36m0:00:00\u001b[0m\n",
            "\u001b[?25hRequirement already satisfied: python-dateutil>=2.8.2 in /usr/local/lib/python3.10/dist-packages (from pandas->llama-index-core==0.10.57->llama-index) (2.8.2)\n",
            "Requirement already satisfied: pytz>=2020.1 in /usr/local/lib/python3.10/dist-packages (from pandas->llama-index-core==0.10.57->llama-index) (2023.4)\n",
            "Requirement already satisfied: tzdata>=2022.1 in /usr/local/lib/python3.10/dist-packages (from pandas->llama-index-core==0.10.57->llama-index) (2024.1)\n",
            "Requirement already satisfied: exceptiongroup in /usr/local/lib/python3.10/dist-packages (from anyio->httpx->llama-index-core==0.10.57->llama-index) (1.2.2)\n",
            "Requirement already satisfied: packaging>=17.0 in /usr/local/lib/python3.10/dist-packages (from marshmallow<4.0.0,>=3.18.0->dataclasses-json->llama-index-core==0.10.57->llama-index) (24.1)\n",
            "Requirement already satisfied: annotated-types>=0.4.0 in /usr/local/lib/python3.10/dist-packages (from pydantic>=1.10->llama-cloud>=0.0.9->llama-index-indices-managed-llama-cloud>=0.2.0->llama-index) (0.7.0)\n",
            "Requirement already satisfied: pydantic-core==2.20.1 in /usr/local/lib/python3.10/dist-packages (from pydantic>=1.10->llama-cloud>=0.0.9->llama-index-indices-managed-llama-cloud>=0.2.0->llama-index) (2.20.1)\n",
            "Requirement already satisfied: six>=1.5 in /usr/local/lib/python3.10/dist-packages (from python-dateutil>=2.8.2->pandas->llama-index-core==0.10.57->llama-index) (1.16.0)\n",
            "Installing collected packages: striprtf, dirtyjson, pypdf, mypy-extensions, marshmallow, h11, deprecated, typing-inspect, tiktoken, httpcore, httpx, dataclasses-json, openai, llama-cloud, llama-index-legacy, llama-index-core, llama-parse, llama-index-readers-file, llama-index-llms-openai, llama-index-indices-managed-llama-cloud, llama-index-embeddings-openai, llama-index-readers-llama-parse, llama-index-multi-modal-llms-openai, llama-index-cli, llama-index-agent-openai, llama-index-program-openai, llama-index-question-gen-openai, llama-index\n",
            "Successfully installed dataclasses-json-0.6.7 deprecated-1.2.14 dirtyjson-1.0.8 h11-0.14.0 httpcore-1.0.5 httpx-0.27.0 llama-cloud-0.0.9 llama-index-0.10.57 llama-index-agent-openai-0.2.9 llama-index-cli-0.1.12 llama-index-core-0.10.57 llama-index-embeddings-openai-0.1.11 llama-index-indices-managed-llama-cloud-0.2.5 llama-index-legacy-0.9.48 llama-index-llms-openai-0.1.27 llama-index-multi-modal-llms-openai-0.1.8 llama-index-program-openai-0.1.7 llama-index-question-gen-openai-0.1.3 llama-index-readers-file-0.1.30 llama-index-readers-llama-parse-0.1.6 llama-parse-0.4.9 marshmallow-3.21.3 mypy-extensions-1.0.0 openai-1.37.0 pypdf-4.3.1 striprtf-0.0.26 tiktoken-0.7.0 typing-inspect-0.9.0\n"
          ]
        }
      ],
      "source": [
        "!pip install llama-index"
      ]
    },
    {
      "cell_type": "code",
      "source": [
        "from google.colab import drive\n",
        "drive.mount('/content/drive')"
      ],
      "metadata": {
        "colab": {
          "base_uri": "https://localhost:8080/"
        },
        "id": "HTYOt_JcwC1K",
        "outputId": "8465c9d5-5855-4db8-87dc-34c74ef6ad3c"
      },
      "execution_count": 2,
      "outputs": [
        {
          "output_type": "stream",
          "name": "stdout",
          "text": [
            "Mounted at /content/drive\n"
          ]
        }
      ]
    },
    {
      "cell_type": "code",
      "execution_count": 3,
      "metadata": {
        "id": "feT3Sd2IBmu8",
        "outputId": "729667f8-60e2-40dc-93bf-9b55ba23843e",
        "colab": {
          "base_uri": "https://localhost:8080/"
        }
      },
      "outputs": [
        {
          "output_type": "stream",
          "name": "stdout",
          "text": [
            "Collecting docx2txt\n",
            "  Downloading docx2txt-0.8.tar.gz (2.8 kB)\n",
            "  Preparing metadata (setup.py) ... \u001b[?25l\u001b[?25hdone\n",
            "Building wheels for collected packages: docx2txt\n",
            "  Building wheel for docx2txt (setup.py) ... \u001b[?25l\u001b[?25hdone\n",
            "  Created wheel for docx2txt: filename=docx2txt-0.8-py3-none-any.whl size=3960 sha256=b38b89ea8321ad51ae3ff05fae0733a372f459a0cb6c6665b477bb651d07b413\n",
            "  Stored in directory: /root/.cache/pip/wheels/22/58/cf/093d0a6c3ecfdfc5f6ddd5524043b88e59a9a199cb02352966\n",
            "Successfully built docx2txt\n",
            "Installing collected packages: docx2txt\n",
            "Successfully installed docx2txt-0.8\n"
          ]
        }
      ],
      "source": [
        "!pip install docx2txt"
      ]
    },
    {
      "cell_type": "code",
      "execution_count": 4,
      "metadata": {
        "colab": {
          "base_uri": "https://localhost:8080/"
        },
        "id": "yo7JmrqBC3G3",
        "outputId": "c07e9fff-cef6-47fe-f598-032d55192f40"
      },
      "outputs": [
        {
          "output_type": "stream",
          "name": "stdout",
          "text": [
            "Requirement already satisfied: pypdf in /usr/local/lib/python3.10/dist-packages (4.3.1)\n",
            "Requirement already satisfied: typing_extensions>=4.0 in /usr/local/lib/python3.10/dist-packages (from pypdf) (4.12.2)\n"
          ]
        }
      ],
      "source": [
        "!pip install pypdf"
      ]
    },
    {
      "cell_type": "code",
      "execution_count": 5,
      "metadata": {
        "id": "_6qOoLDrJndN",
        "colab": {
          "base_uri": "https://localhost:8080/"
        },
        "outputId": "c22e353a-8b47-410d-dea2-fd308a2e8cbb"
      },
      "outputs": [
        {
          "output_type": "stream",
          "name": "stdout",
          "text": [
            "Requirement already satisfied: Openai in /usr/local/lib/python3.10/dist-packages (1.37.0)\n",
            "Requirement already satisfied: anyio<5,>=3.5.0 in /usr/local/lib/python3.10/dist-packages (from Openai) (3.7.1)\n",
            "Requirement already satisfied: distro<2,>=1.7.0 in /usr/lib/python3/dist-packages (from Openai) (1.7.0)\n",
            "Requirement already satisfied: httpx<1,>=0.23.0 in /usr/local/lib/python3.10/dist-packages (from Openai) (0.27.0)\n",
            "Requirement already satisfied: pydantic<3,>=1.9.0 in /usr/local/lib/python3.10/dist-packages (from Openai) (2.8.2)\n",
            "Requirement already satisfied: sniffio in /usr/local/lib/python3.10/dist-packages (from Openai) (1.3.1)\n",
            "Requirement already satisfied: tqdm>4 in /usr/local/lib/python3.10/dist-packages (from Openai) (4.66.4)\n",
            "Requirement already satisfied: typing-extensions<5,>=4.7 in /usr/local/lib/python3.10/dist-packages (from Openai) (4.12.2)\n",
            "Requirement already satisfied: idna>=2.8 in /usr/local/lib/python3.10/dist-packages (from anyio<5,>=3.5.0->Openai) (3.7)\n",
            "Requirement already satisfied: exceptiongroup in /usr/local/lib/python3.10/dist-packages (from anyio<5,>=3.5.0->Openai) (1.2.2)\n",
            "Requirement already satisfied: certifi in /usr/local/lib/python3.10/dist-packages (from httpx<1,>=0.23.0->Openai) (2024.7.4)\n",
            "Requirement already satisfied: httpcore==1.* in /usr/local/lib/python3.10/dist-packages (from httpx<1,>=0.23.0->Openai) (1.0.5)\n",
            "Requirement already satisfied: h11<0.15,>=0.13 in /usr/local/lib/python3.10/dist-packages (from httpcore==1.*->httpx<1,>=0.23.0->Openai) (0.14.0)\n",
            "Requirement already satisfied: annotated-types>=0.4.0 in /usr/local/lib/python3.10/dist-packages (from pydantic<3,>=1.9.0->Openai) (0.7.0)\n",
            "Requirement already satisfied: pydantic-core==2.20.1 in /usr/local/lib/python3.10/dist-packages (from pydantic<3,>=1.9.0->Openai) (2.20.1)\n"
          ]
        }
      ],
      "source": [
        "!pip install Openai"
      ]
    },
    {
      "cell_type": "code",
      "execution_count": null,
      "metadata": {
        "id": "8CUaXpvuJuvr"
      },
      "outputs": [],
      "source": [
        "#!pip install -q openai langchain chromadb faiss-cpu pypdf tiktoken docarray"
      ]
    },
    {
      "cell_type": "code",
      "execution_count": 6,
      "metadata": {
        "id": "tQDrGKJUSjck",
        "colab": {
          "base_uri": "https://localhost:8080/"
        },
        "outputId": "1ac8b189-2558-4e3d-b7bb-8891b685dfb7"
      },
      "outputs": [
        {
          "output_type": "stream",
          "name": "stdout",
          "text": [
            "Requirement already satisfied: llama_index in /usr/local/lib/python3.10/dist-packages (0.10.57)\n",
            "Requirement already satisfied: llama-index-agent-openai<0.3.0,>=0.1.4 in /usr/local/lib/python3.10/dist-packages (from llama_index) (0.2.9)\n",
            "Requirement already satisfied: llama-index-cli<0.2.0,>=0.1.2 in /usr/local/lib/python3.10/dist-packages (from llama_index) (0.1.12)\n",
            "Requirement already satisfied: llama-index-core==0.10.57 in /usr/local/lib/python3.10/dist-packages (from llama_index) (0.10.57)\n",
            "Requirement already satisfied: llama-index-embeddings-openai<0.2.0,>=0.1.5 in /usr/local/lib/python3.10/dist-packages (from llama_index) (0.1.11)\n",
            "Requirement already satisfied: llama-index-indices-managed-llama-cloud>=0.2.0 in /usr/local/lib/python3.10/dist-packages (from llama_index) (0.2.5)\n",
            "Requirement already satisfied: llama-index-legacy<0.10.0,>=0.9.48 in /usr/local/lib/python3.10/dist-packages (from llama_index) (0.9.48)\n",
            "Requirement already satisfied: llama-index-llms-openai<0.2.0,>=0.1.13 in /usr/local/lib/python3.10/dist-packages (from llama_index) (0.1.27)\n",
            "Requirement already satisfied: llama-index-multi-modal-llms-openai<0.2.0,>=0.1.3 in /usr/local/lib/python3.10/dist-packages (from llama_index) (0.1.8)\n",
            "Requirement already satisfied: llama-index-program-openai<0.2.0,>=0.1.3 in /usr/local/lib/python3.10/dist-packages (from llama_index) (0.1.7)\n",
            "Requirement already satisfied: llama-index-question-gen-openai<0.2.0,>=0.1.2 in /usr/local/lib/python3.10/dist-packages (from llama_index) (0.1.3)\n",
            "Requirement already satisfied: llama-index-readers-file<0.2.0,>=0.1.4 in /usr/local/lib/python3.10/dist-packages (from llama_index) (0.1.30)\n",
            "Requirement already satisfied: llama-index-readers-llama-parse>=0.1.2 in /usr/local/lib/python3.10/dist-packages (from llama_index) (0.1.6)\n",
            "Requirement already satisfied: PyYAML>=6.0.1 in /usr/local/lib/python3.10/dist-packages (from llama-index-core==0.10.57->llama_index) (6.0.1)\n",
            "Requirement already satisfied: SQLAlchemy[asyncio]>=1.4.49 in /usr/local/lib/python3.10/dist-packages (from llama-index-core==0.10.57->llama_index) (2.0.31)\n",
            "Requirement already satisfied: aiohttp<4.0.0,>=3.8.6 in /usr/local/lib/python3.10/dist-packages (from llama-index-core==0.10.57->llama_index) (3.9.5)\n",
            "Requirement already satisfied: dataclasses-json in /usr/local/lib/python3.10/dist-packages (from llama-index-core==0.10.57->llama_index) (0.6.7)\n",
            "Requirement already satisfied: deprecated>=1.2.9.3 in /usr/local/lib/python3.10/dist-packages (from llama-index-core==0.10.57->llama_index) (1.2.14)\n",
            "Requirement already satisfied: dirtyjson<2.0.0,>=1.0.8 in /usr/local/lib/python3.10/dist-packages (from llama-index-core==0.10.57->llama_index) (1.0.8)\n",
            "Requirement already satisfied: fsspec>=2023.5.0 in /usr/local/lib/python3.10/dist-packages (from llama-index-core==0.10.57->llama_index) (2023.6.0)\n",
            "Requirement already satisfied: httpx in /usr/local/lib/python3.10/dist-packages (from llama-index-core==0.10.57->llama_index) (0.27.0)\n",
            "Requirement already satisfied: nest-asyncio<2.0.0,>=1.5.8 in /usr/local/lib/python3.10/dist-packages (from llama-index-core==0.10.57->llama_index) (1.6.0)\n",
            "Requirement already satisfied: networkx>=3.0 in /usr/local/lib/python3.10/dist-packages (from llama-index-core==0.10.57->llama_index) (3.3)\n",
            "Requirement already satisfied: nltk<4.0.0,>=3.8.1 in /usr/local/lib/python3.10/dist-packages (from llama-index-core==0.10.57->llama_index) (3.8.1)\n",
            "Requirement already satisfied: numpy<2.0.0 in /usr/local/lib/python3.10/dist-packages (from llama-index-core==0.10.57->llama_index) (1.25.2)\n",
            "Requirement already satisfied: openai>=1.1.0 in /usr/local/lib/python3.10/dist-packages (from llama-index-core==0.10.57->llama_index) (1.37.0)\n",
            "Requirement already satisfied: pandas in /usr/local/lib/python3.10/dist-packages (from llama-index-core==0.10.57->llama_index) (2.0.3)\n",
            "Requirement already satisfied: pillow>=9.0.0 in /usr/local/lib/python3.10/dist-packages (from llama-index-core==0.10.57->llama_index) (9.4.0)\n",
            "Requirement already satisfied: requests>=2.31.0 in /usr/local/lib/python3.10/dist-packages (from llama-index-core==0.10.57->llama_index) (2.31.0)\n",
            "Requirement already satisfied: tenacity!=8.4.0,<9.0.0,>=8.2.0 in /usr/local/lib/python3.10/dist-packages (from llama-index-core==0.10.57->llama_index) (8.5.0)\n",
            "Requirement already satisfied: tiktoken>=0.3.3 in /usr/local/lib/python3.10/dist-packages (from llama-index-core==0.10.57->llama_index) (0.7.0)\n",
            "Requirement already satisfied: tqdm<5.0.0,>=4.66.1 in /usr/local/lib/python3.10/dist-packages (from llama-index-core==0.10.57->llama_index) (4.66.4)\n",
            "Requirement already satisfied: typing-extensions>=4.5.0 in /usr/local/lib/python3.10/dist-packages (from llama-index-core==0.10.57->llama_index) (4.12.2)\n",
            "Requirement already satisfied: typing-inspect>=0.8.0 in /usr/local/lib/python3.10/dist-packages (from llama-index-core==0.10.57->llama_index) (0.9.0)\n",
            "Requirement already satisfied: wrapt in /usr/local/lib/python3.10/dist-packages (from llama-index-core==0.10.57->llama_index) (1.14.1)\n",
            "Requirement already satisfied: llama-cloud>=0.0.9 in /usr/local/lib/python3.10/dist-packages (from llama-index-indices-managed-llama-cloud>=0.2.0->llama_index) (0.0.9)\n",
            "Requirement already satisfied: beautifulsoup4<5.0.0,>=4.12.3 in /usr/local/lib/python3.10/dist-packages (from llama-index-readers-file<0.2.0,>=0.1.4->llama_index) (4.12.3)\n",
            "Requirement already satisfied: pypdf<5.0.0,>=4.0.1 in /usr/local/lib/python3.10/dist-packages (from llama-index-readers-file<0.2.0,>=0.1.4->llama_index) (4.3.1)\n",
            "Requirement already satisfied: striprtf<0.0.27,>=0.0.26 in /usr/local/lib/python3.10/dist-packages (from llama-index-readers-file<0.2.0,>=0.1.4->llama_index) (0.0.26)\n",
            "Requirement already satisfied: llama-parse>=0.4.0 in /usr/local/lib/python3.10/dist-packages (from llama-index-readers-llama-parse>=0.1.2->llama_index) (0.4.9)\n",
            "Requirement already satisfied: aiosignal>=1.1.2 in /usr/local/lib/python3.10/dist-packages (from aiohttp<4.0.0,>=3.8.6->llama-index-core==0.10.57->llama_index) (1.3.1)\n",
            "Requirement already satisfied: attrs>=17.3.0 in /usr/local/lib/python3.10/dist-packages (from aiohttp<4.0.0,>=3.8.6->llama-index-core==0.10.57->llama_index) (23.2.0)\n",
            "Requirement already satisfied: frozenlist>=1.1.1 in /usr/local/lib/python3.10/dist-packages (from aiohttp<4.0.0,>=3.8.6->llama-index-core==0.10.57->llama_index) (1.4.1)\n",
            "Requirement already satisfied: multidict<7.0,>=4.5 in /usr/local/lib/python3.10/dist-packages (from aiohttp<4.0.0,>=3.8.6->llama-index-core==0.10.57->llama_index) (6.0.5)\n",
            "Requirement already satisfied: yarl<2.0,>=1.0 in /usr/local/lib/python3.10/dist-packages (from aiohttp<4.0.0,>=3.8.6->llama-index-core==0.10.57->llama_index) (1.9.4)\n",
            "Requirement already satisfied: async-timeout<5.0,>=4.0 in /usr/local/lib/python3.10/dist-packages (from aiohttp<4.0.0,>=3.8.6->llama-index-core==0.10.57->llama_index) (4.0.3)\n",
            "Requirement already satisfied: soupsieve>1.2 in /usr/local/lib/python3.10/dist-packages (from beautifulsoup4<5.0.0,>=4.12.3->llama-index-readers-file<0.2.0,>=0.1.4->llama_index) (2.5)\n",
            "Requirement already satisfied: pydantic>=1.10 in /usr/local/lib/python3.10/dist-packages (from llama-cloud>=0.0.9->llama-index-indices-managed-llama-cloud>=0.2.0->llama_index) (2.8.2)\n",
            "Requirement already satisfied: anyio in /usr/local/lib/python3.10/dist-packages (from httpx->llama-index-core==0.10.57->llama_index) (3.7.1)\n",
            "Requirement already satisfied: certifi in /usr/local/lib/python3.10/dist-packages (from httpx->llama-index-core==0.10.57->llama_index) (2024.7.4)\n",
            "Requirement already satisfied: httpcore==1.* in /usr/local/lib/python3.10/dist-packages (from httpx->llama-index-core==0.10.57->llama_index) (1.0.5)\n",
            "Requirement already satisfied: idna in /usr/local/lib/python3.10/dist-packages (from httpx->llama-index-core==0.10.57->llama_index) (3.7)\n",
            "Requirement already satisfied: sniffio in /usr/local/lib/python3.10/dist-packages (from httpx->llama-index-core==0.10.57->llama_index) (1.3.1)\n",
            "Requirement already satisfied: h11<0.15,>=0.13 in /usr/local/lib/python3.10/dist-packages (from httpcore==1.*->httpx->llama-index-core==0.10.57->llama_index) (0.14.0)\n",
            "Requirement already satisfied: click in /usr/local/lib/python3.10/dist-packages (from nltk<4.0.0,>=3.8.1->llama-index-core==0.10.57->llama_index) (8.1.7)\n",
            "Requirement already satisfied: joblib in /usr/local/lib/python3.10/dist-packages (from nltk<4.0.0,>=3.8.1->llama-index-core==0.10.57->llama_index) (1.4.2)\n",
            "Requirement already satisfied: regex>=2021.8.3 in /usr/local/lib/python3.10/dist-packages (from nltk<4.0.0,>=3.8.1->llama-index-core==0.10.57->llama_index) (2024.5.15)\n",
            "Requirement already satisfied: distro<2,>=1.7.0 in /usr/lib/python3/dist-packages (from openai>=1.1.0->llama-index-core==0.10.57->llama_index) (1.7.0)\n",
            "Requirement already satisfied: charset-normalizer<4,>=2 in /usr/local/lib/python3.10/dist-packages (from requests>=2.31.0->llama-index-core==0.10.57->llama_index) (3.3.2)\n",
            "Requirement already satisfied: urllib3<3,>=1.21.1 in /usr/local/lib/python3.10/dist-packages (from requests>=2.31.0->llama-index-core==0.10.57->llama_index) (2.0.7)\n",
            "Requirement already satisfied: greenlet!=0.4.17 in /usr/local/lib/python3.10/dist-packages (from SQLAlchemy[asyncio]>=1.4.49->llama-index-core==0.10.57->llama_index) (3.0.3)\n",
            "Requirement already satisfied: mypy-extensions>=0.3.0 in /usr/local/lib/python3.10/dist-packages (from typing-inspect>=0.8.0->llama-index-core==0.10.57->llama_index) (1.0.0)\n",
            "Requirement already satisfied: marshmallow<4.0.0,>=3.18.0 in /usr/local/lib/python3.10/dist-packages (from dataclasses-json->llama-index-core==0.10.57->llama_index) (3.21.3)\n",
            "Requirement already satisfied: python-dateutil>=2.8.2 in /usr/local/lib/python3.10/dist-packages (from pandas->llama-index-core==0.10.57->llama_index) (2.8.2)\n",
            "Requirement already satisfied: pytz>=2020.1 in /usr/local/lib/python3.10/dist-packages (from pandas->llama-index-core==0.10.57->llama_index) (2023.4)\n",
            "Requirement already satisfied: tzdata>=2022.1 in /usr/local/lib/python3.10/dist-packages (from pandas->llama-index-core==0.10.57->llama_index) (2024.1)\n",
            "Requirement already satisfied: exceptiongroup in /usr/local/lib/python3.10/dist-packages (from anyio->httpx->llama-index-core==0.10.57->llama_index) (1.2.2)\n",
            "Requirement already satisfied: packaging>=17.0 in /usr/local/lib/python3.10/dist-packages (from marshmallow<4.0.0,>=3.18.0->dataclasses-json->llama-index-core==0.10.57->llama_index) (24.1)\n",
            "Requirement already satisfied: annotated-types>=0.4.0 in /usr/local/lib/python3.10/dist-packages (from pydantic>=1.10->llama-cloud>=0.0.9->llama-index-indices-managed-llama-cloud>=0.2.0->llama_index) (0.7.0)\n",
            "Requirement already satisfied: pydantic-core==2.20.1 in /usr/local/lib/python3.10/dist-packages (from pydantic>=1.10->llama-cloud>=0.0.9->llama-index-indices-managed-llama-cloud>=0.2.0->llama_index) (2.20.1)\n",
            "Requirement already satisfied: six>=1.5 in /usr/local/lib/python3.10/dist-packages (from python-dateutil>=2.8.2->pandas->llama-index-core==0.10.57->llama_index) (1.16.0)\n"
          ]
        }
      ],
      "source": [
        "!pip install --upgrade llama_index"
      ]
    },
    {
      "cell_type": "code",
      "execution_count": null,
      "metadata": {
        "id": "t8LxVMD-TZsQ"
      },
      "outputs": [],
      "source": [
        "#pip install llama_index[langchain]"
      ]
    },
    {
      "cell_type": "code",
      "execution_count": 7,
      "metadata": {
        "id": "zmLPAFzcTeeO"
      },
      "outputs": [],
      "source": [
        "from llama_index.llms import openai\n",
        "import os\n",
        "import openai"
      ]
    },
    {
      "cell_type": "code",
      "execution_count": 8,
      "metadata": {
        "id": "1TJQxxBKv7F4"
      },
      "outputs": [],
      "source": [
        "\n",
        "filepath=\"/content/drive/MyDrive/C55/\"\n",
        "with open(filepath + \"OpenAI_API_Key.txt\",\"r\") as f:\n",
        "  openai.api_key=''.join(f.readlines())"
      ]
    },
    {
      "cell_type": "markdown",
      "metadata": {
        "id": "oxIVBv3Wv7F5"
      },
      "source": [
        "# Create a new document reader for a Insurance PDF file."
      ]
    },
    {
      "cell_type": "code",
      "execution_count": 9,
      "metadata": {
        "id": "glmqnsP6CzfV"
      },
      "outputs": [],
      "source": [
        "from llama_index.core import SimpleDirectoryReader\n",
        "reader=SimpleDirectoryReader(input_dir=\"/content/drive/MyDrive/Semantic-Spotter-main/Semantic-Spotter-main/Docs/\")"
      ]
    },
    {
      "cell_type": "code",
      "execution_count": 10,
      "metadata": {
        "colab": {
          "base_uri": "https://localhost:8080/"
        },
        "id": "oX-tBPeFbmr1",
        "outputId": "a70fb05f-f723-47f4-ea3a-634f383cf06a"
      },
      "outputs": [
        {
          "output_type": "stream",
          "name": "stdout",
          "text": [
            "Loaded 30 docs\n"
          ]
        }
      ],
      "source": [
        "# Load data from the new document.\n",
        "documents = reader.load_data()\n",
        "print(f\"Loaded {len(documents)} docs\")"
      ]
    },
    {
      "cell_type": "code",
      "execution_count": 11,
      "metadata": {
        "id": "sSiNlNCffwh_"
      },
      "outputs": [],
      "source": [
        "from llama_index.core.node_parser import SimpleNodeParser"
      ]
    },
    {
      "cell_type": "code",
      "execution_count": 12,
      "metadata": {
        "id": "c5o3MX95gWbG"
      },
      "outputs": [],
      "source": [
        "from llama_index.core import VectorStoreIndex"
      ]
    },
    {
      "cell_type": "code",
      "execution_count": 13,
      "metadata": {
        "id": "bukb9wQggihH"
      },
      "outputs": [],
      "source": [
        "# Create new nodes from the new documents.\n",
        "from IPython.display import display, HTML\n",
        "parser = SimpleNodeParser.from_defaults()\n",
        "nodes = parser.get_nodes_from_documents(documents)"
      ]
    },
    {
      "cell_type": "code",
      "source": [
        "documents=reader.load_data()\n",
        "#lenth of documents\n",
        "print(f\"Loaded {len(documents)} documents/pages successfully.\")"
      ],
      "metadata": {
        "colab": {
          "base_uri": "https://localhost:8080/"
        },
        "id": "ex52-PQOzXcp",
        "outputId": "616e7f81-86b3-4c69-9919-460be8c3074c"
      },
      "execution_count": 14,
      "outputs": [
        {
          "output_type": "stream",
          "name": "stdout",
          "text": [
            "Loaded 30 documents/pages successfully.\n"
          ]
        }
      ]
    },
    {
      "cell_type": "code",
      "source": [
        "documents[0]"
      ],
      "metadata": {
        "colab": {
          "base_uri": "https://localhost:8080/"
        },
        "id": "ypDs6yyMzgzC",
        "outputId": "edd6c2bb-1d2c-4b7d-dcde-434964eb3e0f"
      },
      "execution_count": 15,
      "outputs": [
        {
          "output_type": "execute_result",
          "data": {
            "text/plain": [
              "Document(id_='a04dd5c2-95ba-40f5-bb89-4b3f5aae4662', embedding=None, metadata={'page_label': '1', 'file_name': 'HDFC-Life-Group-Term-Life-Policy.pdf', 'file_path': '/content/drive/MyDrive/Semantic-Spotter-main/Semantic-Spotter-main/Docs/HDFC-Life-Group-Term-Life-Policy.pdf', 'file_type': 'application/pdf', 'file_size': 874679, 'creation_date': '2024-07-23', 'last_modified_date': '2024-07-20'}, excluded_embed_metadata_keys=['file_name', 'file_type', 'file_size', 'creation_date', 'last_modified_date', 'last_accessed_date'], excluded_llm_metadata_keys=['file_name', 'file_type', 'file_size', 'creation_date', 'last_modified_date', 'last_accessed_date'], relationships={}, text=' \\nF&U dated 15th October  2022                  UIN-101N169V0 2  P a g e  | 0                        \\n  \\n \\n \\n \\n   HDFC Life  Group Term Life  \\n \\nOF \\n \\n \\n«OWNERNAME»  \\n \\n \\n \\n \\n \\n  \\nBased on the Proposal and the declarations and \\nany \\nstatement made or referred to therein,  \\nWe will pay the Benefit s mentioned in this Policy  \\nsubject to the terms and conditions contained \\nherein  \\n \\n \\n \\n \\n \\n \\n<< Designation of the Authorised Signatory >>  \\n \\n \\n  ', mimetype='text/plain', start_char_idx=None, end_char_idx=None, text_template='{metadata_str}\\n\\n{content}', metadata_template='{key}: {value}', metadata_seperator='\\n')"
            ]
          },
          "metadata": {},
          "execution_count": 15
        }
      ]
    },
    {
      "cell_type": "code",
      "execution_count": 16,
      "metadata": {
        "id": "awNjjE0Ag6pX"
      },
      "outputs": [],
      "source": [
        "# import SimpleNodeParser\n",
        "from llama_index.core.node_parser import SimpleNodeParser\n",
        "# import VectorStoreIndex\n",
        "from llama_index.core import VectorStoreIndex\n",
        "# import display, HTML\n",
        "from IPython.display import display, HTML\n",
        "\n",
        "\n",
        "# Create parser and parse docuemnts into nodes\n",
        "parser=SimpleNodeParser.from_defaults()\n",
        "nodes=parser.get_nodes_from_documents(documents)\n",
        "\n",
        "# build index\n",
        "index=VectorStoreIndex(nodes)\n",
        "\n",
        "#construct query engine\n",
        "query_engine=index.as_query_engine()"
      ]
    },
    {
      "cell_type": "code",
      "source": [
        "#query\n",
        "response=query_engine.query(\"What provisions may allow for a longer reinstatement period for an approved leave of absence taken in accordance with the Uniformed Services Employment and Reemployment Rights Act of 1994 (USERRA)?\")"
      ],
      "metadata": {
        "id": "_MhAR9pyzwRZ"
      },
      "execution_count": 17,
      "outputs": []
    },
    {
      "cell_type": "code",
      "source": [
        "response.response"
      ],
      "metadata": {
        "colab": {
          "base_uri": "https://localhost:8080/",
          "height": 53
        },
        "id": "tMpGgzxiz3u1",
        "outputId": "5292323d-27e1-4653-f3da-5a8eb3052b6b"
      },
      "execution_count": 18,
      "outputs": [
        {
          "output_type": "execute_result",
          "data": {
            "text/plain": [
              "\"Provisions that allow for a longer reinstatement period for an approved leave of absence taken in accordance with the Uniformed Services Employment and Reemployment Rights Act of 1994 (USERRA) may include considerations for the individual's health status and the medical evidence required by the company.\""
            ],
            "application/vnd.google.colaboratory.intrinsic+json": {
              "type": "string"
            }
          },
          "metadata": {},
          "execution_count": 18
        }
      ]
    },
    {
      "cell_type": "code",
      "source": [],
      "metadata": {
        "id": "gq2CMk7Fz1iL"
      },
      "execution_count": null,
      "outputs": []
    },
    {
      "cell_type": "code",
      "execution_count": 19,
      "metadata": {
        "colab": {
          "base_uri": "https://localhost:8080/"
        },
        "id": "CCMLHqqehjwF",
        "outputId": "5de5d754-a357-4f07-db06-28b05ad5bc9e"
      },
      "outputs": [
        {
          "output_type": "execute_result",
          "data": {
            "text/plain": [
              "NodeWithScore(node=TextNode(id_='39bbb82d-35dd-4c54-a603-0c9bd3e823c4', embedding=None, metadata={'page_label': '15', 'file_name': 'HDFC-Life-Group-Term-Life-Policy.pdf', 'file_path': '/content/drive/MyDrive/Semantic-Spotter-main/Semantic-Spotter-main/Docs/HDFC-Life-Group-Term-Life-Policy.pdf', 'file_type': 'application/pdf', 'file_size': 874679, 'creation_date': '2024-07-23', 'last_modified_date': '2024-07-20'}, excluded_embed_metadata_keys=['file_name', 'file_type', 'file_size', 'creation_date', 'last_modified_date', 'last_accessed_date'], excluded_llm_metadata_keys=['file_name', 'file_type', 'file_size', 'creation_date', 'last_modified_date', 'last_accessed_date'], relationships={<NodeRelationship.SOURCE: '1'>: RelatedNodeInfo(node_id='66381261-27b6-4301-81eb-1ce0e287902c', node_type=<ObjectType.DOCUMENT: '4'>, metadata={'page_label': '15', 'file_name': 'HDFC-Life-Group-Term-Life-Policy.pdf', 'file_path': '/content/drive/MyDrive/Semantic-Spotter-main/Semantic-Spotter-main/Docs/HDFC-Life-Group-Term-Life-Policy.pdf', 'file_type': 'application/pdf', 'file_size': 874679, 'creation_date': '2024-07-23', 'last_modified_date': '2024-07-20'}, hash='ce6421fdbdca8c959559522278605c1efca91568ed69967c2bb81bb8f481e457'), <NodeRelationship.NEXT: '3'>: RelatedNodeInfo(node_id='b66af885-30bd-4516-8fd7-2c0b6a7426d1', node_type=<ObjectType.TEXT: '1'>, metadata={}, hash='087b61786eab57529ee600f9702f9737ea92873c3c57e64bce4dc6c675b866be')}, text='F&U dated 15th October  2022                  UIN-101N169V0 2  P a g e  | 14                        \\n  \\nF.3.3.2  The application for cover and details of member information shall be in a Performa provided by the Policy  \\nHolder and acceptable to the Company and shall state that the Eligible Member is ‘at Active Service’ or ‘an Active \\nMember’ as on:  \\n \\na. The Risk Commencement  Date (or, if not a normal business day , the last normal business day before the \\nRisk Commencement Date ); and  \\nb. The day he or she first satisfies the Eligibility Criteria  \\n \\nF.3.3 The application shall be accompanied by a confirmation by the Policy  Holder that such person is ‘at Active \\nService’ or ‘an Active Member’ by an “Active Service Certificate” or “Active Member Declaration ” issued by the \\nPolicy  Holder.  \\n \\nF.3.4 Upon acceptance by the Company of the application for cover of the Eligible Member, such Eligible Member \\nshall become an Insured Member  in accordance with the terms of this Policy  and as per Coverage Schedule \\namended by the Company from time to time.  \\n \\nF.3.5 When considering an application for cover, the Company may request medical and ot her information of the \\nEligible Member.  Until the Company accepts the application no cover shall apply. If the Company accepts an \\napplication, the Company will intimate the Policy  Holder of its acceptance.  \\n \\nF.3.6 Member shall be Actively at Work  for Employer – Employee group . An Active Member Declaration is also \\nrequired for both Employer – Employee group and Affinity Group.   \\n \\nF.4. Application for grant of Insurance Cover  \\n \\nF.4.1 In the application for grant of Insurance Cover in respect of an Eligible Member, the Policyholder  is required \\nto provide the true and correct information in respect of such Eligible Member, as is required by the Company from \\ntime to time. The application for grant of Insurance Cover and the information required to be furnished as above \\nshall be in such performa  as may be prescribed by or acceptable to the Company and the application shall state \\nspecifically that the Eligible Member has availed of the Loan Facility as of the date of application as above, in the \\ncase of a Affinity Group where there is a  lender -borrower relationship .   \\n \\nF.4.2 When considering such an application from the Policyholder , the Company may require the Policyholder  to \\nfurnish a health declaration duly signed by the Eligible Member. Notwithstanding the aforesaid  requirement , the \\nCompany may, at its discretion, require medical and/or other additional information in respect of the Eligible \\nMember.  \\n \\nF.4.3 Notwithstandi ng anything to the contrary contained in this Policy , the Insurance Cover in respect of an \\nEligible Member shall commence only upon acceptance of the Insurance Cover in respect of an Eligible Member by \\nthe Company by way of written communication of such ac ceptance to the Policyholder   and issue of a Certificate \\nof Insurance in respect of such Eligible Member.  \\n \\nF.5. Insured Member s \\n \\nF.5.1 An Eligible Member who satisfies the Eligibility Criteria in Section 4 above shall be covered under this Policy  \\nas an Insured Member  and such Insured Member  shall be eligible for cover under this Policy  from the Risk \\nCommencement Date as specified in the Policy  Schedule.  \\n \\nF.5.2 Insured Member s whose membership has been terminated and who re -apply for membership shall be \\nconsidered as new Insured Member s upon acceptance by the Company. The Company reserves the right to \\nrequest and review evidence of health for any Eligible Member electing to apply for cover.  The extent and terms \\nof the cover will be determined by the Compa ny, based on the medical evidence required.  \\n \\nF.5.3 An Insured Member  must continue to satisfy the Eligibility Criteria to retain his/her membership failing which \\nhe/she shall no longer be an Insured Member  covered under this Policy .', mimetype='text/plain', start_char_idx=2, end_char_idx=3930, text_template='{metadata_str}\\n\\n{content}', metadata_template='{key}: {value}', metadata_seperator='\\n'), score=0.7551993915682597)"
            ]
          },
          "metadata": {},
          "execution_count": 19
        }
      ],
      "source": [
        "#Check the source node\n",
        "response.source_nodes[1]"
      ]
    },
    {
      "cell_type": "code",
      "execution_count": 20,
      "metadata": {
        "colab": {
          "base_uri": "https://localhost:8080/",
          "height": 36
        },
        "id": "CXRficNvh_9u",
        "outputId": "0e060640-6474-474c-9cdc-01c7733e7003"
      },
      "outputs": [
        {
          "output_type": "execute_result",
          "data": {
            "text/plain": [
              "'HDFC-Life-Group-Term-Life-Policy.pdf page no 15'"
            ],
            "application/vnd.google.colaboratory.intrinsic+json": {
              "type": "string"
            }
          },
          "metadata": {},
          "execution_count": 20
        }
      ],
      "source": [
        "#Extract the file name and page number\n",
        "response.source_nodes[1].node.metadata['file_name'] + \" page no \" + response.source_nodes[1].node.metadata['page_label']"
      ]
    },
    {
      "cell_type": "code",
      "execution_count": 23,
      "metadata": {
        "colab": {
          "base_uri": "https://localhost:8080/"
        },
        "id": "2A9pQLb5iOFw",
        "outputId": "d6e1ad7f-a4b0-427e-b384-a3dab1464cd0"
      },
      "outputs": [
        {
          "output_type": "execute_result",
          "data": {
            "text/plain": [
              "0.7551993915682597"
            ]
          },
          "metadata": {},
          "execution_count": 23
        }
      ],
      "source": [
        "#Extract the score\n",
        "response.source_nodes[1].score"
      ]
    },
    {
      "cell_type": "code",
      "execution_count": null,
      "metadata": {
        "colab": {
          "base_uri": "https://localhost:8080/",
          "height": 140
        },
        "id": "T7N3nIiWjbYu",
        "outputId": "4d389b17-ea8b-4d4a-eac4-71d93f955b33"
      },
      "outputs": [
        {
          "output_type": "execute_result",
          "data": {
            "text/plain": [
              "'F.5.2 Insured Member s whose membership has been terminated and who re -apply for membership shall be \\nconsidered as new Insured Member s upon acceptance by the Company. The Company reserves the right to \\nrequest and review evidence of health for any Eligible Member electing to apply for cover.  The extent and terms \\nof the cover will be determined by the Compa ny, based on the medical evidence required.  \\n \\nF.5.3 An Insured Member  must continue to satisfy the Eligibility Criteria to retain his/her membership failing which \\nhe/she shall no longer be an Insured Member  covered under this Policy . \\n \\nF.5.4 An Insured Member  who ceases to be in ‘at Active Service’ or ‘an Active Member’ shall cease to be an \\nInsured Member   \\n \\nF.5.6 In case of any person who becomes an Eligible Member during the Policy  year, the cover shall commence \\nfrom the date the Company communicates th e acceptance of cover on the Eligible Member ’s life, after the \\nCompany has received the “Active Service Certificate” or “Active Member Declaration” and Premium  in respect of \\nsuch member.'"
            ],
            "application/vnd.google.colaboratory.intrinsic+json": {
              "type": "string"
            }
          },
          "metadata": {},
          "execution_count": 26
        }
      ],
      "source": [
        "response.source_nodes[0].node.text"
      ]
    },
    {
      "cell_type": "code",
      "execution_count": 24,
      "metadata": {
        "id": "Sk1YSmnIjoQS"
      },
      "outputs": [],
      "source": [
        "## Query response function\n",
        "def query_response(user_input):\n",
        "  response = query_engine.query(user_input)\n",
        "  file_name = response.source_nodes[0].node.metadata['file_name'] + \" page nos \" + response.source_nodes[0].node.metadata['page_label'] + \",\" + response.source_nodes[1].node.metadata['page_label']\n",
        "  final_response = response.response + '\\n Check further at ' + file_name\n",
        "  return final_response"
      ]
    },
    {
      "cell_type": "code",
      "execution_count": 25,
      "metadata": {
        "colab": {
          "base_uri": "https://localhost:8080/"
        },
        "id": "ylaeTRf5v7GB",
        "outputId": "cf8e820c-a888-4261-a109-113ee24f5fa2"
      },
      "outputs": [
        {
          "output_type": "execute_result",
          "data": {
            "text/plain": [
              "Response(response=\"Provisions that allow for a longer reinstatement period for an approved leave of absence taken in accordance with the Uniformed Services Employment and Reemployment Rights Act of 1994 (USERRA) may include considerations for the individual's health status and the medical evidence required by the company.\", source_nodes=[NodeWithScore(node=TextNode(id_='b66af885-30bd-4516-8fd7-2c0b6a7426d1', embedding=None, metadata={'page_label': '15', 'file_name': 'HDFC-Life-Group-Term-Life-Policy.pdf', 'file_path': '/content/drive/MyDrive/Semantic-Spotter-main/Semantic-Spotter-main/Docs/HDFC-Life-Group-Term-Life-Policy.pdf', 'file_type': 'application/pdf', 'file_size': 874679, 'creation_date': '2024-07-23', 'last_modified_date': '2024-07-20'}, excluded_embed_metadata_keys=['file_name', 'file_type', 'file_size', 'creation_date', 'last_modified_date', 'last_accessed_date'], excluded_llm_metadata_keys=['file_name', 'file_type', 'file_size', 'creation_date', 'last_modified_date', 'last_accessed_date'], relationships={<NodeRelationship.SOURCE: '1'>: RelatedNodeInfo(node_id='66381261-27b6-4301-81eb-1ce0e287902c', node_type=<ObjectType.DOCUMENT: '4'>, metadata={'page_label': '15', 'file_name': 'HDFC-Life-Group-Term-Life-Policy.pdf', 'file_path': '/content/drive/MyDrive/Semantic-Spotter-main/Semantic-Spotter-main/Docs/HDFC-Life-Group-Term-Life-Policy.pdf', 'file_type': 'application/pdf', 'file_size': 874679, 'creation_date': '2024-07-23', 'last_modified_date': '2024-07-20'}, hash='ce6421fdbdca8c959559522278605c1efca91568ed69967c2bb81bb8f481e457'), <NodeRelationship.PREVIOUS: '2'>: RelatedNodeInfo(node_id='39bbb82d-35dd-4c54-a603-0c9bd3e823c4', node_type=<ObjectType.TEXT: '1'>, metadata={'page_label': '15', 'file_name': 'HDFC-Life-Group-Term-Life-Policy.pdf', 'file_path': '/content/drive/MyDrive/Semantic-Spotter-main/Semantic-Spotter-main/Docs/HDFC-Life-Group-Term-Life-Policy.pdf', 'file_type': 'application/pdf', 'file_size': 874679, 'creation_date': '2024-07-23', 'last_modified_date': '2024-07-20'}, hash='91b9264cb291b454ac097571011a913d45f7e4528fcfef351018614b6c9c10e1')}, text='F.5.2 Insured Member s whose membership has been terminated and who re -apply for membership shall be \\nconsidered as new Insured Member s upon acceptance by the Company. The Company reserves the right to \\nrequest and review evidence of health for any Eligible Member electing to apply for cover.  The extent and terms \\nof the cover will be determined by the Compa ny, based on the medical evidence required.  \\n \\nF.5.3 An Insured Member  must continue to satisfy the Eligibility Criteria to retain his/her membership failing which \\nhe/she shall no longer be an Insured Member  covered under this Policy . \\n \\nF.5.4 An Insured Member  who ceases to be in ‘at Active Service’ or ‘an Active Member’ shall cease to be an \\nInsured Member   \\n \\nF.5.6 In case of any person who becomes an Eligible Member during the Policy  year, the cover shall commence \\nfrom the date the Company communicates th e acceptance of cover on the Eligible Member ’s life, after the \\nCompany has received the “Active Service Certificate” or “Active Member Declaration” and Premium  in respect of \\nsuch member.', mimetype='text/plain', start_char_idx=3327, end_char_idx=4405, text_template='{metadata_str}\\n\\n{content}', metadata_template='{key}: {value}', metadata_seperator='\\n'), score=0.7635887775004934), NodeWithScore(node=TextNode(id_='39bbb82d-35dd-4c54-a603-0c9bd3e823c4', embedding=None, metadata={'page_label': '15', 'file_name': 'HDFC-Life-Group-Term-Life-Policy.pdf', 'file_path': '/content/drive/MyDrive/Semantic-Spotter-main/Semantic-Spotter-main/Docs/HDFC-Life-Group-Term-Life-Policy.pdf', 'file_type': 'application/pdf', 'file_size': 874679, 'creation_date': '2024-07-23', 'last_modified_date': '2024-07-20'}, excluded_embed_metadata_keys=['file_name', 'file_type', 'file_size', 'creation_date', 'last_modified_date', 'last_accessed_date'], excluded_llm_metadata_keys=['file_name', 'file_type', 'file_size', 'creation_date', 'last_modified_date', 'last_accessed_date'], relationships={<NodeRelationship.SOURCE: '1'>: RelatedNodeInfo(node_id='66381261-27b6-4301-81eb-1ce0e287902c', node_type=<ObjectType.DOCUMENT: '4'>, metadata={'page_label': '15', 'file_name': 'HDFC-Life-Group-Term-Life-Policy.pdf', 'file_path': '/content/drive/MyDrive/Semantic-Spotter-main/Semantic-Spotter-main/Docs/HDFC-Life-Group-Term-Life-Policy.pdf', 'file_type': 'application/pdf', 'file_size': 874679, 'creation_date': '2024-07-23', 'last_modified_date': '2024-07-20'}, hash='ce6421fdbdca8c959559522278605c1efca91568ed69967c2bb81bb8f481e457'), <NodeRelationship.NEXT: '3'>: RelatedNodeInfo(node_id='b66af885-30bd-4516-8fd7-2c0b6a7426d1', node_type=<ObjectType.TEXT: '1'>, metadata={}, hash='087b61786eab57529ee600f9702f9737ea92873c3c57e64bce4dc6c675b866be')}, text='F&U dated 15th October  2022                  UIN-101N169V0 2  P a g e  | 14                        \\n  \\nF.3.3.2  The application for cover and details of member information shall be in a Performa provided by the Policy  \\nHolder and acceptable to the Company and shall state that the Eligible Member is ‘at Active Service’ or ‘an Active \\nMember’ as on:  \\n \\na. The Risk Commencement  Date (or, if not a normal business day , the last normal business day before the \\nRisk Commencement Date ); and  \\nb. The day he or she first satisfies the Eligibility Criteria  \\n \\nF.3.3 The application shall be accompanied by a confirmation by the Policy  Holder that such person is ‘at Active \\nService’ or ‘an Active Member’ by an “Active Service Certificate” or “Active Member Declaration ” issued by the \\nPolicy  Holder.  \\n \\nF.3.4 Upon acceptance by the Company of the application for cover of the Eligible Member, such Eligible Member \\nshall become an Insured Member  in accordance with the terms of this Policy  and as per Coverage Schedule \\namended by the Company from time to time.  \\n \\nF.3.5 When considering an application for cover, the Company may request medical and ot her information of the \\nEligible Member.  Until the Company accepts the application no cover shall apply. If the Company accepts an \\napplication, the Company will intimate the Policy  Holder of its acceptance.  \\n \\nF.3.6 Member shall be Actively at Work  for Employer – Employee group . An Active Member Declaration is also \\nrequired for both Employer – Employee group and Affinity Group.   \\n \\nF.4. Application for grant of Insurance Cover  \\n \\nF.4.1 In the application for grant of Insurance Cover in respect of an Eligible Member, the Policyholder  is required \\nto provide the true and correct information in respect of such Eligible Member, as is required by the Company from \\ntime to time. The application for grant of Insurance Cover and the information required to be furnished as above \\nshall be in such performa  as may be prescribed by or acceptable to the Company and the application shall state \\nspecifically that the Eligible Member has availed of the Loan Facility as of the date of application as above, in the \\ncase of a Affinity Group where there is a  lender -borrower relationship .   \\n \\nF.4.2 When considering such an application from the Policyholder , the Company may require the Policyholder  to \\nfurnish a health declaration duly signed by the Eligible Member. Notwithstanding the aforesaid  requirement , the \\nCompany may, at its discretion, require medical and/or other additional information in respect of the Eligible \\nMember.  \\n \\nF.4.3 Notwithstandi ng anything to the contrary contained in this Policy , the Insurance Cover in respect of an \\nEligible Member shall commence only upon acceptance of the Insurance Cover in respect of an Eligible Member by \\nthe Company by way of written communication of such ac ceptance to the Policyholder   and issue of a Certificate \\nof Insurance in respect of such Eligible Member.  \\n \\nF.5. Insured Member s \\n \\nF.5.1 An Eligible Member who satisfies the Eligibility Criteria in Section 4 above shall be covered under this Policy  \\nas an Insured Member  and such Insured Member  shall be eligible for cover under this Policy  from the Risk \\nCommencement Date as specified in the Policy  Schedule.  \\n \\nF.5.2 Insured Member s whose membership has been terminated and who re -apply for membership shall be \\nconsidered as new Insured Member s upon acceptance by the Company. The Company reserves the right to \\nrequest and review evidence of health for any Eligible Member electing to apply for cover.  The extent and terms \\nof the cover will be determined by the Compa ny, based on the medical evidence required.  \\n \\nF.5.3 An Insured Member  must continue to satisfy the Eligibility Criteria to retain his/her membership failing which \\nhe/she shall no longer be an Insured Member  covered under this Policy .', mimetype='text/plain', start_char_idx=2, end_char_idx=3930, text_template='{metadata_str}\\n\\n{content}', metadata_template='{key}: {value}', metadata_seperator='\\n'), score=0.7551993915682597)], metadata={'b66af885-30bd-4516-8fd7-2c0b6a7426d1': {'page_label': '15', 'file_name': 'HDFC-Life-Group-Term-Life-Policy.pdf', 'file_path': '/content/drive/MyDrive/Semantic-Spotter-main/Semantic-Spotter-main/Docs/HDFC-Life-Group-Term-Life-Policy.pdf', 'file_type': 'application/pdf', 'file_size': 874679, 'creation_date': '2024-07-23', 'last_modified_date': '2024-07-20'}, '39bbb82d-35dd-4c54-a603-0c9bd3e823c4': {'page_label': '15', 'file_name': 'HDFC-Life-Group-Term-Life-Policy.pdf', 'file_path': '/content/drive/MyDrive/Semantic-Spotter-main/Semantic-Spotter-main/Docs/HDFC-Life-Group-Term-Life-Policy.pdf', 'file_type': 'application/pdf', 'file_size': 874679, 'creation_date': '2024-07-23', 'last_modified_date': '2024-07-20'}})"
            ]
          },
          "metadata": {},
          "execution_count": 25
        }
      ],
      "source": [
        "response"
      ]
    },
    {
      "cell_type": "code",
      "execution_count": 26,
      "metadata": {
        "id": "9kfZrz39lHvN"
      },
      "outputs": [],
      "source": [
        "def initialize_conv():\n",
        "  print('Feel free to ask Questions regarding Life Insurance Policies, Press exit once you are done')\n",
        "  while True:\n",
        "    user_input = input()\n",
        "    if user_input.lower() == 'exit':\n",
        "      print('Exiting the program... bye')\n",
        "      break\n",
        "    else:\n",
        "      response = query_response(user_input)\n",
        "      display(HTML(f'<p style=\"font-size:20px\">{response}</p>'))"
      ]
    },
    {
      "cell_type": "code",
      "execution_count": 27,
      "metadata": {
        "colab": {
          "base_uri": "https://localhost:8080/",
          "height": 464
        },
        "id": "X7DrISc2lcst",
        "outputId": "d1696a94-1b6f-4917-92b2-cd3968ce9905"
      },
      "outputs": [
        {
          "name": "stdout",
          "output_type": "stream",
          "text": [
            "Feel free to ask Questions regarding Life Insurance Policies, Press exit once you are done\n",
            "Insurance Name\n"
          ]
        },
        {
          "output_type": "display_data",
          "data": {
            "text/plain": [
              "<IPython.core.display.HTML object>"
            ],
            "text/html": [
              "<p style=\"font-size:20px\">HDFC Life Group Term Life Policy\n",
              " Check further at HDFC-Life-Group-Term-Life-Policy.pdf page nos 21,23</p>"
            ]
          },
          "metadata": {}
        },
        {
          "name": "stdout",
          "output_type": "stream",
          "text": [
            "What is the grace period of policy premium payment?\n"
          ]
        },
        {
          "output_type": "display_data",
          "data": {
            "text/plain": [
              "<IPython.core.display.HTML object>"
            ],
            "text/html": [
              "<p style=\"font-size:20px\">The grace period for policy premium payment is fifteen (15) days for Monthly mode and thirty (30) days for Quarterly and Half-Yearly modes. There is no grace period in respect of the Annual mode.\n",
              " Check further at HDFC-Life-Group-Term-Life-Policy.pdf page nos 17,17</p>"
            ]
          },
          "metadata": {}
        },
        {
          "name": "stdout",
          "output_type": "stream",
          "text": [
            "What are the benefits received in case of paralysis?\n"
          ]
        },
        {
          "output_type": "display_data",
          "data": {
            "text/plain": [
              "<IPython.core.display.HTML object>"
            ],
            "text/html": [
              "<p style=\"font-size:20px\">The benefits received in case of paralysis are not explicitly mentioned in the provided context information.\n",
              " Check further at HDFC-Life-Group-Term-Life-Policy.pdf page nos 11,16</p>"
            ]
          },
          "metadata": {}
        },
        {
          "name": "stdout",
          "output_type": "stream",
          "text": [
            "Does the insurance cover cancer patients?\n"
          ]
        },
        {
          "output_type": "display_data",
          "data": {
            "text/plain": [
              "<IPython.core.display.HTML object>"
            ],
            "text/html": [
              "<p style=\"font-size:20px\">The insurance policy does not explicitly mention coverage for cancer patients.\n",
              " Check further at HDFC-Life-Group-Term-Life-Policy.pdf page nos 15,11</p>"
            ]
          },
          "metadata": {}
        },
        {
          "name": "stdout",
          "output_type": "stream",
          "text": [
            "What are the death benefits received in caseof Memeber Life Insurance?\n"
          ]
        },
        {
          "output_type": "display_data",
          "data": {
            "text/plain": [
              "<IPython.core.display.HTML object>"
            ],
            "text/html": [
              "<p style=\"font-size:20px\">The death benefits received in case of Member Life Insurance include the Sum Assured payable to the Beneficiary of the Insured Member in the event of the Insured Member's death during the term of the Insurance Cover. Additionally, in case of accidental death, the Additional Sum Assured (if opted by the Policyholder) becomes payable to the Beneficiary, with a maximum limit set by the Company. If there is no designated nominee at the time of the Insured Member's death, the benefits will be payable to the legal heir of the Insured Member.\n",
              " Check further at HDFC-Life-Group-Term-Life-Policy.pdf page nos 11,16</p>"
            ]
          },
          "metadata": {}
        },
        {
          "output_type": "stream",
          "name": "stdout",
          "text": [
            "exit\n",
            "Exiting the program... bye\n"
          ]
        }
      ],
      "source": [
        "initialize_conv()"
      ]
    },
    {
      "cell_type": "code",
      "execution_count": 28,
      "metadata": {
        "id": "yLNfo8Nrlhsv"
      },
      "outputs": [],
      "source": [
        "#building a test Pipeline\n",
        "questions = ['What is the benefit for physically handicapped children in member life insurance?', \"Does the insurance cover diabetic patients?\",\n",
        "             'What are the benefits received in case of paralysis?']"
      ]
    },
    {
      "cell_type": "code",
      "execution_count": 29,
      "metadata": {
        "id": "X_5e2w5JnFkR"
      },
      "outputs": [],
      "source": [
        "def testing_pipeline(questions):\n",
        "  test_feedback  = []\n",
        "  for i in questions:\n",
        "    print(i)\n",
        "    print(query_response(i))\n",
        "    print('\\n Please provide your feedback on the response provided by the bot')\n",
        "    user_input = input()\n",
        "    page = query_response(i).split()[-1]\n",
        "    test_feedback.append((i,query_response(i),page,user_input))\n",
        "\n",
        "  feedback_df = pd.DataFrame(test_feedback, columns =['Question', 'Response', 'Page','Good or Bad'])\n",
        "  return feedback_df"
      ]
    },
    {
      "cell_type": "code",
      "execution_count": 30,
      "metadata": {
        "id": "yo9nfEsRoPhB"
      },
      "outputs": [],
      "source": [
        "import pandas as pd"
      ]
    },
    {
      "cell_type": "code",
      "execution_count": 31,
      "metadata": {
        "colab": {
          "base_uri": "https://localhost:8080/",
          "height": 476
        },
        "id": "NfX5y06soRzx",
        "outputId": "93ba586b-37f5-4573-c7e8-339d40ed3540"
      },
      "outputs": [
        {
          "name": "stdout",
          "output_type": "stream",
          "text": [
            "What is the benefit for physically handicapped children in member life insurance?\n",
            "Physically handicapped children in member life insurance are not specifically mentioned in the provided context information.\n",
            " Check further at HDFC-Life-Group-Term-Life-Policy.pdf page nos 11,15\n",
            "\n",
            " Please provide your feedback on the response provided by the bot\n",
            "Good\n",
            "Does the insurance cover diabetic patients?\n",
            "The insurance policy does not specifically mention whether diabetic patients are covered or not. The extent and terms of the cover are determined by the company based on the medical evidence required, so it would depend on the individual's health condition and the medical evidence provided.\n",
            " Check further at HDFC-Life-Group-Term-Life-Policy.pdf page nos 15,15\n",
            "\n",
            " Please provide your feedback on the response provided by the bot\n",
            "Bad\n",
            "What are the benefits received in case of paralysis?\n",
            "The benefits received in case of paralysis are not explicitly mentioned in the provided context information.\n",
            " Check further at HDFC-Life-Group-Term-Life-Policy.pdf page nos 11,16\n",
            "\n",
            " Please provide your feedback on the response provided by the bot\n",
            "Good\n"
          ]
        },
        {
          "output_type": "execute_result",
          "data": {
            "text/plain": [
              "                                            Question  \\\n",
              "0  What is the benefit for physically handicapped...   \n",
              "1        Does the insurance cover diabetic patients?   \n",
              "2  What are the benefits received in case of para...   \n",
              "\n",
              "                                            Response   Page Good or Bad  \n",
              "0  Physically handicapped children in member life...  11,15        Good  \n",
              "1  The insurance policy does not explicitly menti...  15,15         Bad  \n",
              "2  The benefits received in case of paralysis wou...  11,16        Good  "
            ],
            "text/html": [
              "\n",
              "  <div id=\"df-f3864bc2-1cae-4a67-be0e-4f4d8d39965f\" class=\"colab-df-container\">\n",
              "    <div>\n",
              "<style scoped>\n",
              "    .dataframe tbody tr th:only-of-type {\n",
              "        vertical-align: middle;\n",
              "    }\n",
              "\n",
              "    .dataframe tbody tr th {\n",
              "        vertical-align: top;\n",
              "    }\n",
              "\n",
              "    .dataframe thead th {\n",
              "        text-align: right;\n",
              "    }\n",
              "</style>\n",
              "<table border=\"1\" class=\"dataframe\">\n",
              "  <thead>\n",
              "    <tr style=\"text-align: right;\">\n",
              "      <th></th>\n",
              "      <th>Question</th>\n",
              "      <th>Response</th>\n",
              "      <th>Page</th>\n",
              "      <th>Good or Bad</th>\n",
              "    </tr>\n",
              "  </thead>\n",
              "  <tbody>\n",
              "    <tr>\n",
              "      <th>0</th>\n",
              "      <td>What is the benefit for physically handicapped...</td>\n",
              "      <td>Physically handicapped children in member life...</td>\n",
              "      <td>11,15</td>\n",
              "      <td>Good</td>\n",
              "    </tr>\n",
              "    <tr>\n",
              "      <th>1</th>\n",
              "      <td>Does the insurance cover diabetic patients?</td>\n",
              "      <td>The insurance policy does not explicitly menti...</td>\n",
              "      <td>15,15</td>\n",
              "      <td>Bad</td>\n",
              "    </tr>\n",
              "    <tr>\n",
              "      <th>2</th>\n",
              "      <td>What are the benefits received in case of para...</td>\n",
              "      <td>The benefits received in case of paralysis wou...</td>\n",
              "      <td>11,16</td>\n",
              "      <td>Good</td>\n",
              "    </tr>\n",
              "  </tbody>\n",
              "</table>\n",
              "</div>\n",
              "    <div class=\"colab-df-buttons\">\n",
              "\n",
              "  <div class=\"colab-df-container\">\n",
              "    <button class=\"colab-df-convert\" onclick=\"convertToInteractive('df-f3864bc2-1cae-4a67-be0e-4f4d8d39965f')\"\n",
              "            title=\"Convert this dataframe to an interactive table.\"\n",
              "            style=\"display:none;\">\n",
              "\n",
              "  <svg xmlns=\"http://www.w3.org/2000/svg\" height=\"24px\" viewBox=\"0 -960 960 960\">\n",
              "    <path d=\"M120-120v-720h720v720H120Zm60-500h600v-160H180v160Zm220 220h160v-160H400v160Zm0 220h160v-160H400v160ZM180-400h160v-160H180v160Zm440 0h160v-160H620v160ZM180-180h160v-160H180v160Zm440 0h160v-160H620v160Z\"/>\n",
              "  </svg>\n",
              "    </button>\n",
              "\n",
              "  <style>\n",
              "    .colab-df-container {\n",
              "      display:flex;\n",
              "      gap: 12px;\n",
              "    }\n",
              "\n",
              "    .colab-df-convert {\n",
              "      background-color: #E8F0FE;\n",
              "      border: none;\n",
              "      border-radius: 50%;\n",
              "      cursor: pointer;\n",
              "      display: none;\n",
              "      fill: #1967D2;\n",
              "      height: 32px;\n",
              "      padding: 0 0 0 0;\n",
              "      width: 32px;\n",
              "    }\n",
              "\n",
              "    .colab-df-convert:hover {\n",
              "      background-color: #E2EBFA;\n",
              "      box-shadow: 0px 1px 2px rgba(60, 64, 67, 0.3), 0px 1px 3px 1px rgba(60, 64, 67, 0.15);\n",
              "      fill: #174EA6;\n",
              "    }\n",
              "\n",
              "    .colab-df-buttons div {\n",
              "      margin-bottom: 4px;\n",
              "    }\n",
              "\n",
              "    [theme=dark] .colab-df-convert {\n",
              "      background-color: #3B4455;\n",
              "      fill: #D2E3FC;\n",
              "    }\n",
              "\n",
              "    [theme=dark] .colab-df-convert:hover {\n",
              "      background-color: #434B5C;\n",
              "      box-shadow: 0px 1px 3px 1px rgba(0, 0, 0, 0.15);\n",
              "      filter: drop-shadow(0px 1px 2px rgba(0, 0, 0, 0.3));\n",
              "      fill: #FFFFFF;\n",
              "    }\n",
              "  </style>\n",
              "\n",
              "    <script>\n",
              "      const buttonEl =\n",
              "        document.querySelector('#df-f3864bc2-1cae-4a67-be0e-4f4d8d39965f button.colab-df-convert');\n",
              "      buttonEl.style.display =\n",
              "        google.colab.kernel.accessAllowed ? 'block' : 'none';\n",
              "\n",
              "      async function convertToInteractive(key) {\n",
              "        const element = document.querySelector('#df-f3864bc2-1cae-4a67-be0e-4f4d8d39965f');\n",
              "        const dataTable =\n",
              "          await google.colab.kernel.invokeFunction('convertToInteractive',\n",
              "                                                    [key], {});\n",
              "        if (!dataTable) return;\n",
              "\n",
              "        const docLinkHtml = 'Like what you see? Visit the ' +\n",
              "          '<a target=\"_blank\" href=https://colab.research.google.com/notebooks/data_table.ipynb>data table notebook</a>'\n",
              "          + ' to learn more about interactive tables.';\n",
              "        element.innerHTML = '';\n",
              "        dataTable['output_type'] = 'display_data';\n",
              "        await google.colab.output.renderOutput(dataTable, element);\n",
              "        const docLink = document.createElement('div');\n",
              "        docLink.innerHTML = docLinkHtml;\n",
              "        element.appendChild(docLink);\n",
              "      }\n",
              "    </script>\n",
              "  </div>\n",
              "\n",
              "\n",
              "<div id=\"df-a91147ac-1fac-406a-82d5-c1f3f15eac64\">\n",
              "  <button class=\"colab-df-quickchart\" onclick=\"quickchart('df-a91147ac-1fac-406a-82d5-c1f3f15eac64')\"\n",
              "            title=\"Suggest charts\"\n",
              "            style=\"display:none;\">\n",
              "\n",
              "<svg xmlns=\"http://www.w3.org/2000/svg\" height=\"24px\"viewBox=\"0 0 24 24\"\n",
              "     width=\"24px\">\n",
              "    <g>\n",
              "        <path d=\"M19 3H5c-1.1 0-2 .9-2 2v14c0 1.1.9 2 2 2h14c1.1 0 2-.9 2-2V5c0-1.1-.9-2-2-2zM9 17H7v-7h2v7zm4 0h-2V7h2v10zm4 0h-2v-4h2v4z\"/>\n",
              "    </g>\n",
              "</svg>\n",
              "  </button>\n",
              "\n",
              "<style>\n",
              "  .colab-df-quickchart {\n",
              "      --bg-color: #E8F0FE;\n",
              "      --fill-color: #1967D2;\n",
              "      --hover-bg-color: #E2EBFA;\n",
              "      --hover-fill-color: #174EA6;\n",
              "      --disabled-fill-color: #AAA;\n",
              "      --disabled-bg-color: #DDD;\n",
              "  }\n",
              "\n",
              "  [theme=dark] .colab-df-quickchart {\n",
              "      --bg-color: #3B4455;\n",
              "      --fill-color: #D2E3FC;\n",
              "      --hover-bg-color: #434B5C;\n",
              "      --hover-fill-color: #FFFFFF;\n",
              "      --disabled-bg-color: #3B4455;\n",
              "      --disabled-fill-color: #666;\n",
              "  }\n",
              "\n",
              "  .colab-df-quickchart {\n",
              "    background-color: var(--bg-color);\n",
              "    border: none;\n",
              "    border-radius: 50%;\n",
              "    cursor: pointer;\n",
              "    display: none;\n",
              "    fill: var(--fill-color);\n",
              "    height: 32px;\n",
              "    padding: 0;\n",
              "    width: 32px;\n",
              "  }\n",
              "\n",
              "  .colab-df-quickchart:hover {\n",
              "    background-color: var(--hover-bg-color);\n",
              "    box-shadow: 0 1px 2px rgba(60, 64, 67, 0.3), 0 1px 3px 1px rgba(60, 64, 67, 0.15);\n",
              "    fill: var(--button-hover-fill-color);\n",
              "  }\n",
              "\n",
              "  .colab-df-quickchart-complete:disabled,\n",
              "  .colab-df-quickchart-complete:disabled:hover {\n",
              "    background-color: var(--disabled-bg-color);\n",
              "    fill: var(--disabled-fill-color);\n",
              "    box-shadow: none;\n",
              "  }\n",
              "\n",
              "  .colab-df-spinner {\n",
              "    border: 2px solid var(--fill-color);\n",
              "    border-color: transparent;\n",
              "    border-bottom-color: var(--fill-color);\n",
              "    animation:\n",
              "      spin 1s steps(1) infinite;\n",
              "  }\n",
              "\n",
              "  @keyframes spin {\n",
              "    0% {\n",
              "      border-color: transparent;\n",
              "      border-bottom-color: var(--fill-color);\n",
              "      border-left-color: var(--fill-color);\n",
              "    }\n",
              "    20% {\n",
              "      border-color: transparent;\n",
              "      border-left-color: var(--fill-color);\n",
              "      border-top-color: var(--fill-color);\n",
              "    }\n",
              "    30% {\n",
              "      border-color: transparent;\n",
              "      border-left-color: var(--fill-color);\n",
              "      border-top-color: var(--fill-color);\n",
              "      border-right-color: var(--fill-color);\n",
              "    }\n",
              "    40% {\n",
              "      border-color: transparent;\n",
              "      border-right-color: var(--fill-color);\n",
              "      border-top-color: var(--fill-color);\n",
              "    }\n",
              "    60% {\n",
              "      border-color: transparent;\n",
              "      border-right-color: var(--fill-color);\n",
              "    }\n",
              "    80% {\n",
              "      border-color: transparent;\n",
              "      border-right-color: var(--fill-color);\n",
              "      border-bottom-color: var(--fill-color);\n",
              "    }\n",
              "    90% {\n",
              "      border-color: transparent;\n",
              "      border-bottom-color: var(--fill-color);\n",
              "    }\n",
              "  }\n",
              "</style>\n",
              "\n",
              "  <script>\n",
              "    async function quickchart(key) {\n",
              "      const quickchartButtonEl =\n",
              "        document.querySelector('#' + key + ' button');\n",
              "      quickchartButtonEl.disabled = true;  // To prevent multiple clicks.\n",
              "      quickchartButtonEl.classList.add('colab-df-spinner');\n",
              "      try {\n",
              "        const charts = await google.colab.kernel.invokeFunction(\n",
              "            'suggestCharts', [key], {});\n",
              "      } catch (error) {\n",
              "        console.error('Error during call to suggestCharts:', error);\n",
              "      }\n",
              "      quickchartButtonEl.classList.remove('colab-df-spinner');\n",
              "      quickchartButtonEl.classList.add('colab-df-quickchart-complete');\n",
              "    }\n",
              "    (() => {\n",
              "      let quickchartButtonEl =\n",
              "        document.querySelector('#df-a91147ac-1fac-406a-82d5-c1f3f15eac64 button');\n",
              "      quickchartButtonEl.style.display =\n",
              "        google.colab.kernel.accessAllowed ? 'block' : 'none';\n",
              "    })();\n",
              "  </script>\n",
              "</div>\n",
              "\n",
              "    </div>\n",
              "  </div>\n"
            ],
            "application/vnd.google.colaboratory.intrinsic+json": {
              "type": "dataframe",
              "summary": "{\n  \"name\": \"testing_pipeline(questions)\",\n  \"rows\": 3,\n  \"fields\": [\n    {\n      \"column\": \"Question\",\n      \"properties\": {\n        \"dtype\": \"string\",\n        \"num_unique_values\": 3,\n        \"samples\": [\n          \"What is the benefit for physically handicapped children in member life insurance?\",\n          \"Does the insurance cover diabetic patients?\",\n          \"What are the benefits received in case of paralysis?\"\n        ],\n        \"semantic_type\": \"\",\n        \"description\": \"\"\n      }\n    },\n    {\n      \"column\": \"Response\",\n      \"properties\": {\n        \"dtype\": \"string\",\n        \"num_unique_values\": 3,\n        \"samples\": [\n          \"Physically handicapped children in member life insurance are not specifically mentioned in the provided context information.\\n Check further at HDFC-Life-Group-Term-Life-Policy.pdf page nos 11,15\",\n          \"The insurance policy does not explicitly mention whether it covers diabetic patients or not.\\n Check further at HDFC-Life-Group-Term-Life-Policy.pdf page nos 15,15\",\n          \"The benefits received in case of paralysis would be the Sum Assured as defined in the Coverage Schedule for the Insured Member.\\n Check further at HDFC-Life-Group-Term-Life-Policy.pdf page nos 11,16\"\n        ],\n        \"semantic_type\": \"\",\n        \"description\": \"\"\n      }\n    },\n    {\n      \"column\": \"Page\",\n      \"properties\": {\n        \"dtype\": \"string\",\n        \"num_unique_values\": 3,\n        \"samples\": [\n          \"11,15\",\n          \"15,15\",\n          \"11,16\"\n        ],\n        \"semantic_type\": \"\",\n        \"description\": \"\"\n      }\n    },\n    {\n      \"column\": \"Good or Bad\",\n      \"properties\": {\n        \"dtype\": \"string\",\n        \"num_unique_values\": 2,\n        \"samples\": [\n          \"Bad\",\n          \"Good\"\n        ],\n        \"semantic_type\": \"\",\n        \"description\": \"\"\n      }\n    }\n  ]\n}"
            }
          },
          "metadata": {},
          "execution_count": 31
        }
      ],
      "source": [
        "testing_pipeline(questions)"
      ]
    },
    {
      "cell_type": "code",
      "execution_count": null,
      "metadata": {
        "id": "DAcZcFKMoUhz"
      },
      "outputs": [],
      "source": []
    }
  ],
  "metadata": {
    "colab": {
      "provenance": []
    },
    "kernelspec": {
      "display_name": "Python 3 (ipykernel)",
      "language": "python",
      "name": "python3"
    },
    "language_info": {
      "codemirror_mode": {
        "name": "ipython",
        "version": 3
      },
      "file_extension": ".py",
      "mimetype": "text/x-python",
      "name": "python",
      "nbconvert_exporter": "python",
      "pygments_lexer": "ipython3",
      "version": "3.9.12"
    }
  },
  "nbformat": 4,
  "nbformat_minor": 0
}